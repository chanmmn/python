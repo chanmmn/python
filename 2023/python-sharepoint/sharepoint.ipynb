{
 "cells": [
  {
   "cell_type": "code",
   "execution_count": 5,
   "id": "e06334ed-6389-4650-8696-b19936bac3cb",
   "metadata": {},
   "outputs": [
    {
     "name": "stdout",
     "output_type": "stream",
     "text": [
      "Customer Sales\n",
      "Commercial Sales\n"
     ]
    }
   ],
   "source": [
    "from shareplum import Site, Office365\n",
    "from shareplum.site import Version\n",
    "import json\n",
    "import os\n",
    "#ROOT_DIR = os.path.dirname(os.path.abspath(__file__))\n",
    "#config_path = '\\\\'.join([ROOT_DIR, 'config.json'])\n",
    "config_path = 'config.json'\n",
    "# read json config file\n",
    "with open(config_path) as config_file:\n",
    "    config = json.load(config_file)\n",
    "    config = config['share_point']\n",
    "USERNAME = config['user']\n",
    "PASSWORD = config['password']\n",
    "SHAREPOINT_URL = config['url']\n",
    "SHAREPOINT_SITE = config['site']\n",
    "class SharePoint:\n",
    "    def auth(self):\n",
    "        self.authcookie = Office365(\n",
    "            SHAREPOINT_URL,\n",
    "            username=USERNAME,\n",
    "            password=PASSWORD,\n",
    "        ).GetCookies()\n",
    "        self.site = Site(\n",
    "            SHAREPOINT_SITE,\n",
    "            version=Version.v365,\n",
    "            authcookie=self.authcookie,\n",
    "        )\n",
    "        return self.site\n",
    "    def connect_to_list(self, ls_name):\n",
    "        self.auth_site = self.auth()\n",
    "        #fir debugging\n",
    "        #print(\"Run auth\")\n",
    "        list_data = self.auth_site.List(list_name=ls_name).GetListItems()\n",
    "        return list_data\n",
    "clients = SharePoint().connect_to_list(ls_name='Clients')\n",
    "for idx, client in enumerate(clients, 1):\n",
    "    print(client['Title'])"
   ]
  },
  {
   "cell_type": "code",
   "execution_count": null,
   "id": "f0c2ef56-3773-4054-bd3c-790585d0a9e0",
   "metadata": {},
   "outputs": [],
   "source": []
  }
 ],
 "metadata": {
  "kernelspec": {
   "display_name": "Python 3 (ipykernel)",
   "language": "python",
   "name": "python3"
  },
  "language_info": {
   "codemirror_mode": {
    "name": "ipython",
    "version": 3
   },
   "file_extension": ".py",
   "mimetype": "text/x-python",
   "name": "python",
   "nbconvert_exporter": "python",
   "pygments_lexer": "ipython3",
   "version": "3.11.2"
  }
 },
 "nbformat": 4,
 "nbformat_minor": 5
}
