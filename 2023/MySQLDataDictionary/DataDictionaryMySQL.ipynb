{
 "cells": [
  {
   "cell_type": "code",
   "execution_count": 1,
   "id": "66ea87ab-a4f3-4a16-9396-9c4ffeaea482",
   "metadata": {},
   "outputs": [
    {
     "name": "stdout",
     "output_type": "stream",
     "text": [
      "Data dictionary has been saved to output_data_dictionary.xlsx.\n"
     ]
    }
   ],
   "source": [
    "import mysql.connector\n",
    "import pandas as pd\n",
    "\n",
    "def generate_data_dictionary(host, user, password, database, output_file):\n",
    "    # Connect to the MySQL database\n",
    "    connection = mysql.connector.connect(\n",
    "        host=host,\n",
    "        user=user,\n",
    "        password=password,\n",
    "        database=database\n",
    "    )\n",
    "\n",
    "    cursor = connection.cursor(dictionary=True)\n",
    "\n",
    "    # Get the list of tables in the database\n",
    "    cursor.execute(\"SHOW TABLES\")\n",
    "    tables = [table['Tables_in_' + database] for table in cursor.fetchall()]\n",
    "\n",
    "    # Create an ExcelWriter object\n",
    "    with pd.ExcelWriter(output_file, engine='openpyxl') as writer:\n",
    "        for table in tables:\n",
    "            # Get the columns for each table\n",
    "            cursor.execute(f\"DESCRIBE {table}\")\n",
    "            columns = cursor.fetchall()\n",
    "\n",
    "            # Create a DataFrame for the table\n",
    "            df = pd.DataFrame(columns)\n",
    "            df.columns = ['Column', 'Type', 'Null', 'Key', 'Default', 'Extra']\n",
    "\n",
    "            # Write the DataFrame to a separate sheet\n",
    "            df.to_excel(writer, sheet_name=table, index=False)\n",
    "\n",
    "    # Close the cursor and connection\n",
    "    cursor.close()\n",
    "    connection.close()\n",
    "\n",
    "if __name__ == \"__main__\":\n",
    "    # Replace these values with your MySQL connection details and output file path\n",
    "    host = \"localhost\"\n",
    "    user = \"root\"\n",
    "    password = \"password\"\n",
    "    database = \"sakila\"\n",
    "    output_file = \"output_data_dictionary.xlsx\"\n",
    "\n",
    "    generate_data_dictionary(host, user, password, database, output_file)\n",
    "\n",
    "    print(f\"Data dictionary has been saved to {output_file}.\")\n"
   ]
  },
  {
   "cell_type": "code",
   "execution_count": null,
   "id": "6a2fd080-37fb-4ace-a7e7-3b46835bea7e",
   "metadata": {},
   "outputs": [],
   "source": []
  }
 ],
 "metadata": {
  "kernelspec": {
   "display_name": "Python 3 (ipykernel)",
   "language": "python",
   "name": "python3"
  },
  "language_info": {
   "codemirror_mode": {
    "name": "ipython",
    "version": 3
   },
   "file_extension": ".py",
   "mimetype": "text/x-python",
   "name": "python",
   "nbconvert_exporter": "python",
   "pygments_lexer": "ipython3",
   "version": "3.11.5"
  }
 },
 "nbformat": 4,
 "nbformat_minor": 5
}
