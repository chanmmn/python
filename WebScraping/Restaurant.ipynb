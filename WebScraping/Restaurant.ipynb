{
 "cells": [
  {
   "cell_type": "code",
   "execution_count": 1,
   "id": "5bd403a8-50b9-4394-8147-b52c4540320d",
   "metadata": {},
   "outputs": [
    {
     "name": "stdout",
     "output_type": "stream",
     "text": [
      "Restaurant 1: 1. IQOS Authorised Centre, Kepong\n",
      "Restaurant 2: 2. IQOS Authorised Centre, Bandar Puteri Puchong\n",
      "Restaurant 3: 3. IQOS Authorised Centre, Seremban Gateway\n",
      "Restaurant 4: 4. IQOS Authorised Centre, Publika\n",
      "Restaurant 5: 5. IQOS Authorised Centre, SS15\n",
      "Restaurant 6: 6. IQOS Authorised Centre, Damansara Uptown\n",
      "Restaurant 7: 7. IQOS Authorised Centre, Sri Petaling\n",
      "Restaurant 8: 8. IQOS Authorised Centre, Penang (The Landmark)\n",
      "Restaurant 9: 9. Signature Snack Sdn Bhd\n",
      "Restaurant 10: 10. IQOS Authorised Centre, Melaka (Kota Syahbandar)\n",
      "Restaurant 11: 11. T&L Coconut Sdn Bhd\n",
      "Restaurant 12: 12. Hard Rock Cafe\n",
      "Restaurant 13: 13. IQOS Authorised Centre, Cyberjaya - Permanently Closed\n",
      "Restaurant 14: 14. IQOS Authorised Centre, Johor (Taman Sutera)\n",
      "Restaurant 15: 15. The Mandarin Cake Shop\n",
      "Restaurant 16: 16. IQOS Authorised Centre, Mahkota Cheras\n",
      "Restaurant 17: 17. IQOS Authorised Centre, The Gasket Alley\n",
      "Restaurant 18: 18. Hard Rock Cafe\n",
      "Restaurant 19: 19. IQOS Authorised Centre, Klang\n",
      "Restaurant 20: 20. IQOS Authorised Centre, Kota Damansara\n"
     ]
    }
   ],
   "source": [
    "import requests\n",
    "from bs4 import BeautifulSoup\n",
    "url = \"https://www.infobel.com/en/malaysia/business/10000/food_restaurants\"\n",
    "#url=\"https://www.infobel.com/en/malaysia/Search/BusinessResults?token=eyJDdXJyZW50UGFnZSI6MSwiUmVjb3Jkc1BlclBhZ2UiOjAsIkNvdW50cnlDb2RlIjpudWxsLCJCdXNpbmVzc1R5cGUiOjEsIlNvcnRCeSI6bnVsbCwiU2VhcmNoVGVybSI6IkZvb2QgJiBSZXN0YXVyYW50cyIsIlNlYXJjaExvY2F0aW9uIjoicHVjaG9uZyIsIlJlc2lkZW50aWFsU2VhcmNoVGVybSI6bnVsbCwiU2VhcmNoQ2F0ZWdvcmllcyI6e30sIkNhdGVnb3J5Q29kZSI6IjEwMDAwIiwiQ2F0ZWdvcnlMZXZlbCI6MCwiSXNNZXRhIjp0cnVlLCJMYXRpdHVkZSI6bnVsbCwiTG9uZ2l0dWRlIjpudWxsLCJPcmRlcjA4IjpudWxsLCJPcmRlcjA5IjpudWxsLCJOZWFyQnkiOm51bGwsIlN0cmljdExvY2F0aW9uIjpmYWxzZSwiQ2F0ZWdvcnlTZWFyY2giOmZhbHNlLCJUb3BDaXRpZXNOdW1iZXIiOjAsIlRvcENpdGllc0FyZWEiOjAsIlRvcENhdGVnb3JpZXNOdW1iZXIiOjAsIlRvcENvbXBldGl0b3JzTnVtYmVyIjowLCJUb3BDb21wZXRpdG9yc0FyZWEiOjAsIlZhbGlkRm9yRW5jcnlwdGlvbiI6dHJ1ZSwiTG9jYXRpb25XaXRoUHJvdmluY2UiOmZhbHNlfQ==\"\n",
    "#url = \"https://www.infobel.com/en/malaysia/Search/BusinessResults?token=eyJDdXJyZW50UGFnZSI6MiwiUmVjb3Jkc1BlclBhZ2UiOjIwLCJDb3VudHJ5Q29kZSI6Ik1ZIiwiQnVzaW5lc3NUeXBlIjoxLCJTb3J0QnkiOlsxXSwiU2VhcmNoVGVybSI6IkZvb2QgJiBSZXN0YXVyYW50cyIsIlNlYXJjaExvY2F0aW9uIjoicHVjaG9uZyIsIlJlc2lkZW50aWFsU2VhcmNoVGVybSI6bnVsbCwiU2VhcmNoQ2F0ZWdvcmllcyI6eyIxMDAwMCI6MSwiMTAxMDAiOjIsIjEwMjAwIjoyLCIxMDIwMSI6MywiMTAyMDIiOjMsIjEwMjAzIjozLCIxMDIwNCI6MywiMTAyMDUiOjMsIjEwMzAwIjoyLCIxMDMwMSI6MywiMTAzMDIiOjMsIjEwMzAzIjozLCIxMDQwMCI6MiwiMTA1MDAiOjIsIjEwNTAxIjozLCIxMDYwMCI6MiwiMTA3MDAiOjIsIjEwODAwIjoyLCIxMDkwMCI6MiwiMTA5MDEiOjMsIjEwOTAyIjozLCIxMTAwMCI6MiwiMTExMDAiOjIsIjExMTAxIjozLCIxMTEwMiI6MywiMTEyMDAiOjIsIjExMzAwIjoyLCIxMTQwMCI6MiwiMTE1MDAiOjIsIjExNjAwIjoyLCIxMTcwMCI6MiwiMTE4MDAiOjIsIjExOTAwIjoyLCIxMjAwMCI6MiwiMTIxMDAiOjIsIjEyMjAwIjoyLCIxMjMwMCI6Mn0sIkNhdGVnb3J5Q29kZSI6IjEwMDAwIiwiQ2F0ZWdvcnlMZXZlbCI6MSwiSXNNZXRhIjp0cnVlLCJMYXRpdHVkZSI6bnVsbCwiTG9uZ2l0dWRlIjpudWxsLCJPcmRlcjA4IjpudWxsLCJPcmRlcjA5IjpudWxsLCJOZWFyQnkiOm51bGwsIlN0cmljdExvY2F0aW9uIjpmYWxzZSwiQ2F0ZWdvcnlTZWFyY2giOmZhbHNlLCJUb3BDaXRpZXNOdW1iZXIiOjIxLCJUb3BDaXRpZXNBcmVhIjozMCwiVG9wQ2F0ZWdvcmllc051bWJlciI6MTAsIlRvcENvbXBldGl0b3JzTnVtYmVyIjowLCJUb3BDb21wZXRpdG9yc0FyZWEiOjAsIlZhbGlkRm9yRW5jcnlwdGlvbiI6dHJ1ZSwiTG9jYXRpb25XaXRoUHJvdmluY2UiOmZhbHNlfQ==\" \n",
    "response = requests.get(url)\n",
    "soup = BeautifulSoup(response.content, \"html.parser\")\n",
    "restaurant_names = []\n",
    "# Assuming the restaurant names are in a certain class or tag\n",
    "restaurant_elements = soup.find_all(\"h2\", class_=\"customer-item-name\")\n",
    "for restaurant in restaurant_elements:\n",
    "    name = restaurant.text.strip()\n",
    "    restaurant_names.append(name)\n",
    "for idx, name in enumerate(restaurant_names, start=1):\n",
    "    print(f\"Restaurant {idx}: {name}\")"
   ]
  },
  {
   "cell_type": "code",
   "execution_count": null,
   "id": "2c9a344c-29e5-4346-adb8-e0747869131d",
   "metadata": {},
   "outputs": [],
   "source": []
  }
 ],
 "metadata": {
  "kernelspec": {
   "display_name": "Python 3 (ipykernel)",
   "language": "python",
   "name": "python3"
  },
  "language_info": {
   "codemirror_mode": {
    "name": "ipython",
    "version": 3
   },
   "file_extension": ".py",
   "mimetype": "text/x-python",
   "name": "python",
   "nbconvert_exporter": "python",
   "pygments_lexer": "ipython3",
   "version": "3.11.2"
  }
 },
 "nbformat": 4,
 "nbformat_minor": 5
}
